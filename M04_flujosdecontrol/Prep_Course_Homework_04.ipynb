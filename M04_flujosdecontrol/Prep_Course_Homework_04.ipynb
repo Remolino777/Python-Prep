{
 "cells": [
  {
   "attachments": {},
   "cell_type": "markdown",
   "metadata": {},
   "source": [
    "## Flujos de Control"
   ]
  },
  {
   "attachments": {},
   "cell_type": "markdown",
   "metadata": {},
   "source": [
    "1) Crear una variable que contenga un elemento del conjunto de números enteros y luego imprimir por pantalla si es mayor o menor a cero"
   ]
  },
  {
   "cell_type": "code",
   "execution_count": 1,
   "metadata": {},
   "outputs": [
    {
     "name": "stdout",
     "output_type": "stream",
     "text": [
      "True\n"
     ]
    }
   ],
   "source": [
    "a = 7 \n",
    "\n",
    "print(a>0)"
   ]
  },
  {
   "attachments": {},
   "cell_type": "markdown",
   "metadata": {},
   "source": [
    "2) Crear dos variables y un condicional que informe si son del mismo tipo de dato"
   ]
  },
  {
   "cell_type": "code",
   "execution_count": 2,
   "metadata": {},
   "outputs": [
    {
     "name": "stdout",
     "output_type": "stream",
     "text": [
      "Wrong type\n"
     ]
    }
   ],
   "source": [
    "b = 7.3\n",
    "\n",
    "if type(a) == type(b):\n",
    "    print('Same type')\n",
    "else:\n",
    "    print('Wrong type')"
   ]
  },
  {
   "attachments": {},
   "cell_type": "markdown",
   "metadata": {},
   "source": [
    "3) Para los valores enteros del 1 al 20, imprimir por pantalla si es par o impar"
   ]
  },
  {
   "cell_type": "code",
   "execution_count": 7,
   "metadata": {},
   "outputs": [
    {
     "name": "stdout",
     "output_type": "stream",
     "text": [
      "par\n",
      "impar\n",
      "par\n",
      "impar\n",
      "par\n",
      "impar\n",
      "par\n",
      "impar\n",
      "par\n",
      "impar\n",
      "par\n",
      "impar\n",
      "par\n",
      "impar\n",
      "par\n",
      "impar\n",
      "par\n",
      "impar\n",
      "par\n",
      "impar\n"
     ]
    }
   ],
   "source": [
    "m = 20\n",
    "while m !=0:\n",
    "    if m%2 > 0:\n",
    "        print('impar')\n",
    "    else:\n",
    "        print('par')    \n",
    "    m -= 1\n",
    "\n"
   ]
  },
  {
   "attachments": {},
   "cell_type": "markdown",
   "metadata": {},
   "source": [
    "4) En un ciclo for mostrar para los valores entre 0 y 5 el resultado de elevarlo a la potencia igual a 3"
   ]
  },
  {
   "cell_type": "code",
   "execution_count": 10,
   "metadata": {},
   "outputs": [
    {
     "name": "stdout",
     "output_type": "stream",
     "text": [
      "1\n",
      "8\n",
      "27\n",
      "64\n"
     ]
    }
   ],
   "source": [
    "set = [1,2,3,4]\n",
    "for m in set:\n",
    "    print(m**3)"
   ]
  },
  {
   "attachments": {},
   "cell_type": "markdown",
   "metadata": {},
   "source": [
    "5) Crear una variable que contenga un número entero y realizar un ciclo for la misma cantidad de ciclos"
   ]
  },
  {
   "cell_type": "code",
   "execution_count": 11,
   "metadata": {},
   "outputs": [
    {
     "name": "stdout",
     "output_type": "stream",
     "text": [
      "Este es el ciclo 1\n",
      "Este es el ciclo 2\n",
      "Este es el ciclo 3\n",
      "Este es el ciclo 4\n",
      "Este es el ciclo 5\n",
      "Este es el ciclo 6\n",
      "Este es el ciclo 7\n"
     ]
    }
   ],
   "source": [
    "w = 7\n",
    "\n",
    "for i in range (w):\n",
    "    print(f\"Este es el ciclo {i + 1}\")\n"
   ]
  },
  {
   "attachments": {},
   "cell_type": "markdown",
   "metadata": {},
   "source": [
    "6) Utilizar un ciclo while para realizar el factorial de un número guardado en una variable, sólo si la variable contiene un número entero mayor a 0"
   ]
  },
  {
   "cell_type": "code",
   "execution_count": 15,
   "metadata": {},
   "outputs": [
    {
     "name": "stdout",
     "output_type": "stream",
     "text": [
      "5\n",
      "20\n",
      "60\n",
      "120\n",
      "120\n"
     ]
    }
   ],
   "source": [
    "q = 5\n",
    "factorial = 1\n",
    "while q > 0:\n",
    "    factorial *= q\n",
    "    print (factorial)\n",
    "    q-= 1"
   ]
  },
  {
   "attachments": {},
   "cell_type": "markdown",
   "metadata": {},
   "source": [
    "7) Crear un ciclo for dentro de un ciclo while"
   ]
  },
  {
   "cell_type": "code",
   "execution_count": 20,
   "metadata": {},
   "outputs": [
    {
     "name": "stdout",
     "output_type": "stream",
     "text": [
      "[1.0, 1.3333333333333333, 2.3333333333333335, 3.0, 1.0, 1.3333333333333333, 2.3333333333333335, 3.0, 1.0, 1.3333333333333333, 2.3333333333333335, 3.0, 1.0, 1.3333333333333333, 2.3333333333333335, 3.0]\n"
     ]
    }
   ],
   "source": [
    "a = 3\n",
    "lb = [3,4,7,9]\n",
    "la = []\n",
    "\n",
    "while a >= 0:\n",
    "    for i in lb:\n",
    "        n = i / 3         \n",
    "        la.append(n)\n",
    "    a -= 1\n",
    "print(la)"
   ]
  },
  {
   "attachments": {},
   "cell_type": "markdown",
   "metadata": {},
   "source": [
    "8) Crear un ciclo while dentro de un ciclo for"
   ]
  },
  {
   "cell_type": "code",
   "execution_count": 25,
   "metadata": {},
   "outputs": [
    {
     "data": {
      "text/plain": [
       "1"
      ]
     },
     "execution_count": 25,
     "metadata": {},
     "output_type": "execute_result"
    }
   ],
   "source": [
    "9%4\n",
    "\n"
   ]
  },
  {
   "attachments": {},
   "cell_type": "markdown",
   "metadata": {},
   "source": [
    "9) Imprimir los números primos existentes entre 0 y 30"
   ]
  },
  {
   "cell_type": "code",
   "execution_count": 26,
   "metadata": {},
   "outputs": [
    {
     "name": "stdout",
     "output_type": "stream",
     "text": [
      "Este es un numero primo: 1\n",
      "Este es un numero primo: 2\n",
      "Este es un numero primo: 3\n",
      "Este es un numero primo: 5\n",
      "Este es un numero primo: 7\n",
      "Este es un numero primo: 11\n",
      "Este es un numero primo: 13\n",
      "Este es un numero primo: 17\n",
      "Este es un numero primo: 23\n"
     ]
    }
   ],
   "source": [
    "primos = [1,2,3,5,7,11,13,17,23,]\n",
    "\n",
    "for i in range(30):\n",
    "    for a in  primos:\n",
    "        if i == a:\n",
    "            print(f\"Este es un numero primo: {i}\")"
   ]
  },
  {
   "attachments": {},
   "cell_type": "markdown",
   "metadata": {},
   "source": [
    "10) ¿Se puede mejorar el proceso del punto 9? Utilizar las sentencias break y/ó continue para tal fin"
   ]
  },
  {
   "cell_type": "code",
   "execution_count": null,
   "metadata": {},
   "outputs": [],
   "source": []
  },
  {
   "attachments": {},
   "cell_type": "markdown",
   "metadata": {},
   "source": [
    "11) En los puntos 9 y 10, se diseño un código que encuentra números primos y además se lo optimizó. ¿Es posible saber en qué medida se optimizó?"
   ]
  },
  {
   "cell_type": "code",
   "execution_count": null,
   "metadata": {},
   "outputs": [],
   "source": []
  },
  {
   "attachments": {},
   "cell_type": "markdown",
   "metadata": {},
   "source": [
    "12) Aplicando continue, armar un ciclo while que solo imprima los valores divisibles por 12, dentro del rango de números de 100 a 300"
   ]
  },
  {
   "cell_type": "code",
   "execution_count": 36,
   "metadata": {},
   "outputs": [
    {
     "name": "stdout",
     "output_type": "stream",
     "text": [
      "Este es un numero divisible entre 12: 300\n",
      "Este es un numero divisible entre 12: 288\n",
      "Este es un numero divisible entre 12: 276\n",
      "Este es un numero divisible entre 12: 264\n",
      "Este es un numero divisible entre 12: 252\n",
      "Este es un numero divisible entre 12: 240\n",
      "Este es un numero divisible entre 12: 228\n",
      "Este es un numero divisible entre 12: 216\n",
      "Este es un numero divisible entre 12: 204\n",
      "Este es un numero divisible entre 12: 192\n",
      "Este es un numero divisible entre 12: 180\n",
      "Este es un numero divisible entre 12: 168\n",
      "Este es un numero divisible entre 12: 156\n",
      "Este es un numero divisible entre 12: 144\n",
      "Este es un numero divisible entre 12: 132\n",
      "Este es un numero divisible entre 12: 120\n",
      "Este es un numero divisible entre 12: 108\n"
     ]
    }
   ],
   "source": [
    "b = 300\n",
    "\n",
    "while b >= 100:\n",
    "    if b % 12 == 0:\n",
    "        print(f'Este es un numero divisible entre 12: {b}')\n",
    "    b -= 1    \n",
    "       \n"
   ]
  },
  {
   "attachments": {},
   "cell_type": "markdown",
   "metadata": {},
   "source": [
    "13) Utilizar la función **input()** que permite hacer ingresos por teclado, para encontrar números primos y dar la opción al usario de buscar el siguiente"
   ]
  },
  {
   "cell_type": "code",
   "execution_count": null,
   "metadata": {},
   "outputs": [],
   "source": []
  },
  {
   "attachments": {},
   "cell_type": "markdown",
   "metadata": {},
   "source": [
    "14) Crear un ciclo while que encuentre dentro del rango de 100 a 300 el primer número divisible por 3 y además múltiplo de 6"
   ]
  },
  {
   "cell_type": "code",
   "execution_count": 35,
   "metadata": {},
   "outputs": [
    {
     "name": "stdout",
     "output_type": "stream",
     "text": [
      "Este es el primer numero divisible entre 3 y multiplo de: 102\n"
     ]
    }
   ],
   "source": [
    "b = 100\n",
    "\n",
    "while b <= 300:\n",
    "    if b % 3 == 0 and b % 6 == 0:\n",
    "        print(f'Este es el primer numero divisible entre 3 y multiplo de: {b}')\n",
    "        break\n",
    "    b += 1    "
   ]
  },
  {
   "cell_type": "code",
   "execution_count": null,
   "metadata": {},
   "outputs": [],
   "source": []
  }
 ],
 "metadata": {
  "interpreter": {
   "hash": "c85384e4cb51c8b72350f3a8712cc8351fdc3955e32a27f9b60c6242ab125f01"
  },
  "kernelspec": {
   "display_name": "Python 3 (ipykernel)",
   "language": "python",
   "name": "python3"
  },
  "language_info": {
   "codemirror_mode": {
    "name": "ipython",
    "version": 3
   },
   "file_extension": ".py",
   "mimetype": "text/x-python",
   "name": "python",
   "nbconvert_exporter": "python",
   "pygments_lexer": "ipython3",
   "version": "3.11.6"
  }
 },
 "nbformat": 4,
 "nbformat_minor": 4
}
